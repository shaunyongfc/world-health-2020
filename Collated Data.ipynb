{
 "cells": [
  {
   "cell_type": "code",
   "execution_count": 1,
   "metadata": {},
   "outputs": [],
   "source": [
    "from my_utils import my_utils\n",
    "import pandas as pd"
   ]
  },
  {
   "cell_type": "code",
   "execution_count": 5,
   "metadata": {},
   "outputs": [
    {
     "data": {
      "text/plain": [
       "Index(['Life expectancy at birth (years)',\n",
       "       'Healthy life expectancy (HALE) at birth (years)',\n",
       "       'Maternal mortality ratio (per 100 000 live births)',\n",
       "       'Births attended by skilled health personnel (%)',\n",
       "       'Infant mortality rate (probability of dying between birth and age 1 per 1000 live births)',\n",
       "       'Neonatal mortality rate (per 1000 live births)',\n",
       "       'Under-five mortality rate (probability of dying by age 5 per 1000 live births)',\n",
       "       'Malaria incidence (per 1 000 population at risk)',\n",
       "       'Incidence of tuberculosis (per 100 000 population per year)',\n",
       "       'Hepatitis B surface antigen (HBsAg) prevalence among children under 5 years (%)',\n",
       "       'Reported number of people requiring interventions against NTDs',\n",
       "       'New HIV infections (per 1000 uninfected population)',\n",
       "       'Probability (%) of dying between age 30 and exact age 70 from any of cardiovascular disease, cancer, diabetes, or chronic respiratory disease',\n",
       "       'Crude suicide rates (per 100 000 population)',\n",
       "       'Total (recorded+unrecorded) alcohol per capita (15+) consumption',\n",
       "       'Married or in-union women of reproductive age who have their need for family planning satisfied with modern methods (%)',\n",
       "       'Adolescent birth rate (per 1000 women aged 15-19 years)',\n",
       "       'UHC index of essential service coverage',\n",
       "       'Population with household expenditures on health greater than 10% of total household expenditure or income (SDG 3.8.2) (%)',\n",
       "       'Population with household expenditures on health greater than 25% of total household expenditure or income  ( SDG indicator 3.8.2) (%)',\n",
       "       'Mortality rate attributed to unintentional poisoning (per 100 000 population)',\n",
       "       'Age-standardized prevalence of current tobacco smoking among persons aged 15 years and older',\n",
       "       'Medical doctors (per 10,000)',\n",
       "       'Nursing and midwifery personnel (per 10,000)', 'Dentists (per 10,000)',\n",
       "       'Pharmacists  (per 10,000)',\n",
       "       'Population using at least basic drinking-water services (%)',\n",
       "       'Population using at least basic sanitation services (%)',\n",
       "       'Population using safely managed sanitation services (%)',\n",
       "       'Population with basic handwashing facilities at home (%)',\n",
       "       'Proportion of population with primary reliance on clean fuels and technologies (%)'],\n",
       "      dtype='object')"
      ]
     },
     "execution_count": 5,
     "metadata": {},
     "output_type": "execute_result"
    }
   ],
   "source": [
    "dfnew = my_utils.collate_data(2015)\n",
    "dfnew.columns"
   ]
  },
  {
   "cell_type": "code",
   "execution_count": 8,
   "metadata": {},
   "outputs": [
    {
     "data": {
      "text/plain": [
       "Life expectancy at birth (years)                                                                                                                                77.5\n",
       "Healthy life expectancy (HALE) at birth (years)                                                                                                                65.67\n",
       "Maternal mortality ratio (per 100 000 live births)                                                                                                      114 [67-199]\n",
       "Births attended by skilled health personnel (%)                                                                                                                  NaN\n",
       "Infant mortality rate (probability of dying between birth and age 1 per 1000 live births)                                                        20.22 [19.74-20.73]\n",
       "Neonatal mortality rate (per 1000 live births)                                                                                                    15.05 [14.4-15.68]\n",
       "Under-five mortality rate (probability of dying by age 5 per 1000 live births)                                                                    23.72 [23.16-24.3]\n",
       "Malaria incidence (per 1 000 population at risk)                                                                                                                   0\n",
       "Incidence of tuberculosis (per 100 000 population per year)                                                                                               75 [57-94]\n",
       "Hepatitis B surface antigen (HBsAg) prevalence among children under 5 years (%)                                                                     0.22 [0.12-0.34]\n",
       "Reported number of people requiring interventions against NTDs                                                                                                  7561\n",
       "New HIV infections (per 1000 uninfected population)                                                                                                 0.04 [0.02-0.07]\n",
       "Probability (%) of dying between age 30 and exact age 70 from any of cardiovascular disease, cancer, diabetes, or chronic respiratory disease                   13.3\n",
       "Crude suicide rates (per 100 000 population)                                                                                                                     1.7\n",
       "Total (recorded+unrecorded) alcohol per capita (15+) consumption                                                                                                0.25\n",
       "Married or in-union women of reproductive age who have their need for family planning satisfied with modern methods (%)                                          NaN\n",
       "Adolescent birth rate (per 1000 women aged 15-19 years)                                                                                                          9.7\n",
       "UHC index of essential service coverage                                                                                                                           76\n",
       "Population with household expenditures on health greater than 10% of total household expenditure or income (SDG 3.8.2) (%)                                       NaN\n",
       "Population with household expenditures on health greater than 25% of total household expenditure or income  ( SDG indicator 3.8.2) (%)                           NaN\n",
       "Mortality rate attributed to unintentional poisoning (per 100 000 population)                                                                                   0.63\n",
       "Age-standardized prevalence of current tobacco smoking among persons aged 15 years and older                                                                     1.5\n",
       "Medical doctors (per 10,000)                                                                                                                                     NaN\n",
       "Nursing and midwifery personnel (per 10,000)                                                                                                                     NaN\n",
       "Dentists (per 10,000)                                                                                                                                            NaN\n",
       "Pharmacists  (per 10,000)                                                                                                                                        NaN\n",
       "Population using at least basic drinking-water services (%)                                                                                                    88.69\n",
       "Population using at least basic sanitation services (%)                                                                                                        82.21\n",
       "Population using safely managed sanitation services (%)                                                                                                        20.79\n",
       "Population with basic handwashing facilities at home (%)                                                                                                       73.07\n",
       "Proportion of population with primary reliance on clean fuels and technologies (%)                                                                                95\n",
       "Name: Algeria, dtype: object"
      ]
     },
     "execution_count": 8,
     "metadata": {},
     "output_type": "execute_result"
    }
   ],
   "source": [
    "dfnew.loc['Algeria', :]"
   ]
  },
  {
   "cell_type": "code",
   "execution_count": 12,
   "metadata": {},
   "outputs": [
    {
     "data": {
      "text/html": [
       "<div>\n",
       "<style scoped>\n",
       "    .dataframe tbody tr th:only-of-type {\n",
       "        vertical-align: middle;\n",
       "    }\n",
       "\n",
       "    .dataframe tbody tr th {\n",
       "        vertical-align: top;\n",
       "    }\n",
       "\n",
       "    .dataframe thead th {\n",
       "        text-align: right;\n",
       "    }\n",
       "</style>\n",
       "<table border=\"1\" class=\"dataframe\">\n",
       "  <thead>\n",
       "    <tr style=\"text-align: right;\">\n",
       "      <th></th>\n",
       "      <th>Location</th>\n",
       "      <th>Period</th>\n",
       "      <th>Indicator</th>\n",
       "      <th>First Tooltip</th>\n",
       "    </tr>\n",
       "  </thead>\n",
       "  <tbody>\n",
       "    <tr>\n",
       "      <th>34</th>\n",
       "      <td>Algeria</td>\n",
       "      <td>2018</td>\n",
       "      <td>Medical doctors (per 10,000)</td>\n",
       "      <td>17.19</td>\n",
       "    </tr>\n",
       "    <tr>\n",
       "      <th>35</th>\n",
       "      <td>Algeria</td>\n",
       "      <td>2017</td>\n",
       "      <td>Medical doctors (per 10,000)</td>\n",
       "      <td>17.88</td>\n",
       "    </tr>\n",
       "    <tr>\n",
       "      <th>36</th>\n",
       "      <td>Algeria</td>\n",
       "      <td>2016</td>\n",
       "      <td>Medical doctors (per 10,000)</td>\n",
       "      <td>18.33</td>\n",
       "    </tr>\n",
       "    <tr>\n",
       "      <th>37</th>\n",
       "      <td>Algeria</td>\n",
       "      <td>2007</td>\n",
       "      <td>Medical doctors (per 10,000)</td>\n",
       "      <td>11.96</td>\n",
       "    </tr>\n",
       "    <tr>\n",
       "      <th>38</th>\n",
       "      <td>Algeria</td>\n",
       "      <td>2005</td>\n",
       "      <td>Medical doctors (per 10,000)</td>\n",
       "      <td>10.24</td>\n",
       "    </tr>\n",
       "    <tr>\n",
       "      <th>39</th>\n",
       "      <td>Algeria</td>\n",
       "      <td>2002</td>\n",
       "      <td>Medical doctors (per 10,000)</td>\n",
       "      <td>11.10</td>\n",
       "    </tr>\n",
       "  </tbody>\n",
       "</table>\n",
       "</div>"
      ],
      "text/plain": [
       "   Location  Period                     Indicator  First Tooltip\n",
       "34  Algeria    2018  Medical doctors (per 10,000)          17.19\n",
       "35  Algeria    2017  Medical doctors (per 10,000)          17.88\n",
       "36  Algeria    2016  Medical doctors (per 10,000)          18.33\n",
       "37  Algeria    2007  Medical doctors (per 10,000)          11.96\n",
       "38  Algeria    2005  Medical doctors (per 10,000)          10.24\n",
       "39  Algeria    2002  Medical doctors (per 10,000)          11.10"
      ]
     },
     "execution_count": 12,
     "metadata": {},
     "output_type": "execute_result"
    }
   ],
   "source": [
    "dfmed = my_utils.get_data('medicalDoctors', indicator=True)\n",
    "dfmed[dfmed['Location'] == 'Algeria']"
   ]
  }
 ],
 "metadata": {
  "kernelspec": {
   "display_name": "Python 3",
   "language": "python",
   "name": "python3"
  },
  "language_info": {
   "codemirror_mode": {
    "name": "ipython",
    "version": 3
   },
   "file_extension": ".py",
   "mimetype": "text/x-python",
   "name": "python",
   "nbconvert_exporter": "python",
   "pygments_lexer": "ipython3",
   "version": "3.7.6"
  }
 },
 "nbformat": 4,
 "nbformat_minor": 4
}
