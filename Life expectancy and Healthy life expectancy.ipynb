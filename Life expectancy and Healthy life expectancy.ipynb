{
 "cells": [
  {
   "cell_type": "markdown",
   "metadata": {},
   "source": [
    "Some initial data inspection and studies."
   ]
  },
  {
   "cell_type": "code",
   "execution_count": 1,
   "metadata": {},
   "outputs": [],
   "source": [
    "from my_utils import my_utils\n",
    "import pandas as pd\n",
    "import matplotlib.pyplot as plt\n",
    "%matplotlib inline"
   ]
  },
  {
   "cell_type": "code",
   "execution_count": 2,
   "metadata": {},
   "outputs": [],
   "source": [
    "class LifeExpectancyAtBirth():\n",
    "    def __init__(self):\n",
    "        self.og = my_utils.get_data('lifeExpectancyAtBirth').rename({'First Tooltip': 'lifeExpectancy'}, axis=1)\n",
    "        remaing_cols = ['Location', 'lifeExpectancy']\n",
    "        self.both2019 = self.og.loc[(self.og['Period'] == 2019) & (self.og['Dim1'] == 'Both sexes'), remaing_cols]\n",
    "        self.m2019 = self.og.loc[(self.og['Period'] == 2019) & (self.og['Dim1'] == 'Male'), remaing_cols]\n",
    "        self.f2019 = self.og.loc[(self.og['Period'] == 2019) & (self.og['Dim1'] == 'Female'), remaing_cols]\n",
    "        self.both2015 = self.og.loc[(self.og['Period'] == 2015) & (self.og['Dim1'] == 'Both sexes'), remaing_cols]\n",
    "        self.both2010 = self.og.loc[(self.og['Period'] == 2010) & (self.og['Dim1'] == 'Both sexes'), remaing_cols]\n",
    "\n",
    "dfclass = LifeExpectancyAtBirth()"
   ]
  },
  {
   "cell_type": "code",
   "execution_count": 3,
   "metadata": {},
   "outputs": [
    {
     "data": {
      "text/html": [
       "<div>\n",
       "<style scoped>\n",
       "    .dataframe tbody tr th:only-of-type {\n",
       "        vertical-align: middle;\n",
       "    }\n",
       "\n",
       "    .dataframe tbody tr th {\n",
       "        vertical-align: top;\n",
       "    }\n",
       "\n",
       "    .dataframe thead th {\n",
       "        text-align: right;\n",
       "    }\n",
       "</style>\n",
       "<table border=\"1\" class=\"dataframe\">\n",
       "  <thead>\n",
       "    <tr style=\"text-align: right;\">\n",
       "      <th></th>\n",
       "      <th>Location</th>\n",
       "      <th>lifeExpectancy</th>\n",
       "      <th>Diff</th>\n",
       "    </tr>\n",
       "  </thead>\n",
       "  <tbody>\n",
       "    <tr>\n",
       "      <th>71</th>\n",
       "      <td>Haiti</td>\n",
       "      <td>31.28</td>\n",
       "      <td>32.77</td>\n",
       "    </tr>\n",
       "    <tr>\n",
       "      <th>55</th>\n",
       "      <td>Eswatini</td>\n",
       "      <td>47.43</td>\n",
       "      <td>10.30</td>\n",
       "    </tr>\n",
       "    <tr>\n",
       "      <th>181</th>\n",
       "      <td>Zimbabwe</td>\n",
       "      <td>51.49</td>\n",
       "      <td>9.19</td>\n",
       "    </tr>\n",
       "    <tr>\n",
       "      <th>99</th>\n",
       "      <td>Malawi</td>\n",
       "      <td>56.80</td>\n",
       "      <td>8.82</td>\n",
       "    </tr>\n",
       "    <tr>\n",
       "      <th>151</th>\n",
       "      <td>South Africa</td>\n",
       "      <td>57.14</td>\n",
       "      <td>8.11</td>\n",
       "    </tr>\n",
       "    <tr>\n",
       "      <th>...</th>\n",
       "      <td>...</td>\n",
       "      <td>...</td>\n",
       "      <td>...</td>\n",
       "    </tr>\n",
       "    <tr>\n",
       "      <th>155</th>\n",
       "      <td>Suriname</td>\n",
       "      <td>71.83</td>\n",
       "      <td>-0.35</td>\n",
       "    </tr>\n",
       "    <tr>\n",
       "      <th>177</th>\n",
       "      <td>Venezuela (Bolivarian Republic of)</td>\n",
       "      <td>74.79</td>\n",
       "      <td>-0.84</td>\n",
       "    </tr>\n",
       "    <tr>\n",
       "      <th>137</th>\n",
       "      <td>Saint Lucia</td>\n",
       "      <td>75.20</td>\n",
       "      <td>-0.87</td>\n",
       "    </tr>\n",
       "    <tr>\n",
       "      <th>179</th>\n",
       "      <td>Yemen</td>\n",
       "      <td>67.70</td>\n",
       "      <td>-1.07</td>\n",
       "    </tr>\n",
       "    <tr>\n",
       "      <th>158</th>\n",
       "      <td>Syrian Arab Republic</td>\n",
       "      <td>74.35</td>\n",
       "      <td>-1.68</td>\n",
       "    </tr>\n",
       "  </tbody>\n",
       "</table>\n",
       "<p>182 rows × 3 columns</p>\n",
       "</div>"
      ],
      "text/plain": [
       "                               Location  lifeExpectancy   Diff\n",
       "71                                Haiti           31.28  32.77\n",
       "55                             Eswatini           47.43  10.30\n",
       "181                            Zimbabwe           51.49   9.19\n",
       "99                               Malawi           56.80   8.82\n",
       "151                        South Africa           57.14   8.11\n",
       "..                                  ...             ...    ...\n",
       "155                            Suriname           71.83  -0.35\n",
       "177  Venezuela (Bolivarian Republic of)           74.79  -0.84\n",
       "137                         Saint Lucia           75.20  -0.87\n",
       "179                               Yemen           67.70  -1.07\n",
       "158                Syrian Arab Republic           74.35  -1.68\n",
       "\n",
       "[182 rows x 3 columns]"
      ]
     },
     "execution_count": 3,
     "metadata": {},
     "output_type": "execute_result"
    }
   ],
   "source": [
    "dfyears = my_utils.df_difference(dfclass.both2019, dfclass.both2010, 'lifeExpectancy', cols=['lifeExpectancy'], set_index='Location')\n",
    "dfyears.sort_values('Diff', ascending=False)"
   ]
  },
  {
   "cell_type": "code",
   "execution_count": 4,
   "metadata": {},
   "outputs": [
    {
     "data": {
      "image/png": "[encoded data removed]",
      "text/plain": [
       "<Figure size 432x288 with 1 Axes>"
      ]
     },
     "metadata": {
      "needs_background": "light"
     },
     "output_type": "display_data"
    }
   ],
   "source": [
    "plt.scatter(dfyears['lifeExpectancy'], dfyears['Diff'])\n",
    "plt.grid(True)\n",
    "plt.show()"
   ]
  },
  {
   "cell_type": "code",
   "execution_count": 5,
   "metadata": {},
   "outputs": [
    {
     "data": {
      "text/html": [
       "<div>\n",
       "<style scoped>\n",
       "    .dataframe tbody tr th:only-of-type {\n",
       "        vertical-align: middle;\n",
       "    }\n",
       "\n",
       "    .dataframe tbody tr th {\n",
       "        vertical-align: top;\n",
       "    }\n",
       "\n",
       "    .dataframe thead th {\n",
       "        text-align: right;\n",
       "    }\n",
       "</style>\n",
       "<table border=\"1\" class=\"dataframe\">\n",
       "  <thead>\n",
       "    <tr style=\"text-align: right;\">\n",
       "      <th></th>\n",
       "      <th>Location</th>\n",
       "      <th>lifeExpectancy</th>\n",
       "      <th>Diff</th>\n",
       "    </tr>\n",
       "  </thead>\n",
       "  <tbody>\n",
       "    <tr>\n",
       "      <th>14</th>\n",
       "      <td>Belarus</td>\n",
       "      <td>69.65</td>\n",
       "      <td>9.97</td>\n",
       "    </tr>\n",
       "    <tr>\n",
       "      <th>55</th>\n",
       "      <td>Eswatini</td>\n",
       "      <td>53.36</td>\n",
       "      <td>9.82</td>\n",
       "    </tr>\n",
       "    <tr>\n",
       "      <th>135</th>\n",
       "      <td>Russian Federation</td>\n",
       "      <td>68.18</td>\n",
       "      <td>9.82</td>\n",
       "    </tr>\n",
       "    <tr>\n",
       "      <th>170</th>\n",
       "      <td>Ukraine</td>\n",
       "      <td>68.00</td>\n",
       "      <td>9.81</td>\n",
       "    </tr>\n",
       "    <tr>\n",
       "      <th>91</th>\n",
       "      <td>Latvia</td>\n",
       "      <td>70.58</td>\n",
       "      <td>9.26</td>\n",
       "    </tr>\n",
       "    <tr>\n",
       "      <th>...</th>\n",
       "      <td>...</td>\n",
       "      <td>...</td>\n",
       "      <td>...</td>\n",
       "    </tr>\n",
       "    <tr>\n",
       "      <th>71</th>\n",
       "      <td>Haiti</td>\n",
       "      <td>63.34</td>\n",
       "      <td>1.42</td>\n",
       "    </tr>\n",
       "    <tr>\n",
       "      <th>102</th>\n",
       "      <td>Mali</td>\n",
       "      <td>62.20</td>\n",
       "      <td>1.20</td>\n",
       "    </tr>\n",
       "    <tr>\n",
       "      <th>104</th>\n",
       "      <td>Mauritania</td>\n",
       "      <td>68.08</td>\n",
       "      <td>0.65</td>\n",
       "    </tr>\n",
       "    <tr>\n",
       "      <th>0</th>\n",
       "      <td>Afghanistan</td>\n",
       "      <td>63.29</td>\n",
       "      <td>-0.13</td>\n",
       "    </tr>\n",
       "    <tr>\n",
       "      <th>130</th>\n",
       "      <td>Qatar</td>\n",
       "      <td>78.03</td>\n",
       "      <td>-1.40</td>\n",
       "    </tr>\n",
       "  </tbody>\n",
       "</table>\n",
       "<p>183 rows × 3 columns</p>\n",
       "</div>"
      ],
      "text/plain": [
       "               Location  lifeExpectancy  Diff\n",
       "14              Belarus           69.65  9.97\n",
       "55             Eswatini           53.36  9.82\n",
       "135  Russian Federation           68.18  9.82\n",
       "170             Ukraine           68.00  9.81\n",
       "91               Latvia           70.58  9.26\n",
       "..                  ...             ...   ...\n",
       "71                Haiti           63.34  1.42\n",
       "102                Mali           62.20  1.20\n",
       "104          Mauritania           68.08  0.65\n",
       "0           Afghanistan           63.29 -0.13\n",
       "130               Qatar           78.03 -1.40\n",
       "\n",
       "[183 rows x 3 columns]"
      ]
     },
     "execution_count": 5,
     "metadata": {},
     "output_type": "execute_result"
    }
   ],
   "source": [
    "dfgender = my_utils.df_difference(dfclass.f2019, dfclass.m2019, 'lifeExpectancy', cols=['lifeExpectancy'], set_index='Location')\n",
    "dfgender.sort_values('Diff', ascending=False)"
   ]
  },
  {
   "cell_type": "code",
   "execution_count": 6,
   "metadata": {},
   "outputs": [
    {
     "data": {
      "image/png": "[encoded data removed]",
      "text/plain": [
       "<Figure size 432x288 with 1 Axes>"
      ]
     },
     "metadata": {
      "needs_background": "light"
     },
     "output_type": "display_data"
    }
   ],
   "source": [
    "plt.scatter(dfgender['lifeExpectancy'], dfgender['Diff'])\n",
    "plt.grid(True)\n",
    "plt.show()"
   ]
  },
  {
   "cell_type": "code",
   "execution_count": 7,
   "metadata": {},
   "outputs": [
    {
     "data": {
      "text/plain": [
       "True"
      ]
     },
     "execution_count": 7,
     "metadata": {},
     "output_type": "execute_result"
    }
   ],
   "source": [
    "dfnew = my_utils.get_data('lifeExpectancyAtBirth')\n",
    "#dfnew[dfnew['Period'] == 2015]\n",
    "'Both sexes' in set(dfnew['Dim1'])"
   ]
  },
  {
   "cell_type": "code",
   "execution_count": null,
   "metadata": {},
   "outputs": [],
   "source": []
  }
 ],
 "metadata": {
  "kernelspec": {
   "display_name": "Python 3",
   "language": "python",
   "name": "python3"
  },
  "language_info": {
   "codemirror_mode": {
    "name": "ipython",
    "version": 3
   },
   "file_extension": ".py",
   "mimetype": "text/x-python",
   "name": "python",
   "nbconvert_exporter": "python",
   "pygments_lexer": "ipython3",
   "version": "3.7.6"
  }
 },
 "nbformat": 4,
 "nbformat_minor": 4
}
